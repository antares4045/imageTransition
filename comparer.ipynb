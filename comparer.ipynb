{
 "cells": [
  {
   "cell_type": "code",
   "execution_count": 19,
   "metadata": {},
   "outputs": [],
   "source": [
    "import torch\n",
    "import os\n",
    "from firstLearn import CURRENT_DIRECTORY, folderMustExist, ImageRemembererNet,genPilImage"
   ]
  },
  {
   "cell_type": "code",
   "execution_count": 2,
   "metadata": {},
   "outputs": [
    {
     "data": {
      "text/plain": [
       "device(type='cuda', index=0)"
      ]
     },
     "execution_count": 2,
     "metadata": {},
     "output_type": "execute_result"
    }
   ],
   "source": [
    "device = torch.device(\"cuda:0\" if torch.cuda.is_available() else \"cpu\")\n",
    "device"
   ]
  },
  {
   "cell_type": "code",
   "execution_count": 25,
   "metadata": {},
   "outputs": [],
   "source": [
    "net = ImageRemembererNet(500, 6)\n",
    "net.to(device)\n",
    "\n",
    "netOld = ImageRemembererNet(500, 6)\n",
    "netOld.to(device)\n",
    "\n",
    "netNew = ImageRemembererNet(500, 6)\n",
    "netNew.to(device)\n",
    "\n",
    "netOld.load(os.path.join(CURRENT_DIRECTORY, \"models-first\", \"175.model\"))\n",
    "old_state_dict = netOld.state_dict().copy()\n",
    "\n",
    "netNew.load(os.path.join(CURRENT_DIRECTORY, \"models-second\", \"8.model\"))\n",
    "new_state_dict = netNew.state_dict().copy()"
   ]
  },
  {
   "cell_type": "code",
   "execution_count": 26,
   "metadata": {},
   "outputs": [],
   "source": [
    "output_path = os.path.join(CURRENT_DIRECTORY, \"steps\")\n",
    "steps_count = 100\n",
    "\n",
    "\n",
    "height = 100\n",
    "width = 100\n",
    "X = torch.FloatTensor([(x,y) for x in range(height) for y in range(width)]).to(device)"
   ]
  },
  {
   "cell_type": "code",
   "execution_count": 27,
   "metadata": {},
   "outputs": [],
   "source": [
    "keys = old_state_dict.keys()\n",
    "current_state_dict = old_state_dict.copy()\n",
    "step_state_dict = new_state_dict.copy()\n",
    "for key in map(str, keys):\n",
    "    step_state_dict[key] = (step_state_dict[key] - old_state_dict[key]) / steps_count\n"
   ]
  },
  {
   "cell_type": "code",
   "execution_count": 28,
   "metadata": {},
   "outputs": [],
   "source": [
    "net.load_state_dict(current_state_dict)\n",
    "preds = net.inference(X)\n",
    "genPilImage(height, width, preds.cpu().detach().numpy()).save(os.path.join(output_path,f\"{0}.png\"))\n",
    "for i in range(steps_count):\n",
    "    for key in map(str, keys):\n",
    "        current_state_dict[key] += step_state_dict[key]\n",
    "    net.load_state_dict(current_state_dict)\n",
    "    preds = net.inference(X)\n",
    "    genPilImage(height, width, preds.cpu().detach().numpy()).save(os.path.join(output_path,f\"{i+1}.png\"))"
   ]
  },
  {
   "cell_type": "code",
   "execution_count": null,
   "metadata": {},
   "outputs": [],
   "source": []
  }
 ],
 "metadata": {
  "interpreter": {
   "hash": "97ae724bfa85b9b34df7982b8bb8c7216f435b92902d749e4263f71162bea840"
  },
  "kernelspec": {
   "display_name": "Python 3.8.12 ('base')",
   "language": "python",
   "name": "python3"
  },
  "language_info": {
   "codemirror_mode": {
    "name": "ipython",
    "version": 3
   },
   "file_extension": ".py",
   "mimetype": "text/x-python",
   "name": "python",
   "nbconvert_exporter": "python",
   "pygments_lexer": "ipython3",
   "version": "3.8.12"
  },
  "orig_nbformat": 4
 },
 "nbformat": 4,
 "nbformat_minor": 2
}
